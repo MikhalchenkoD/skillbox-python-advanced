{
 "cells": [
  {
   "cell_type": "code",
   "execution_count": 2,
   "metadata": {
    "collapsed": true
   },
   "outputs": [],
   "source": [
    "from typing import Iterator, Generator\n"
   ]
  },
  {
   "cell_type": "code",
   "execution_count": 14,
   "outputs": [
    {
     "name": "stdout",
     "output_type": "stream",
     "text": [
      "item=1\n",
      "item=2\n",
      "item=42\n"
     ]
    }
   ],
   "source": [
    "\n",
    "def simple_gen() -> Iterator[str]:\n",
    "    yield 'something'\n",
    "\n",
    "\n",
    "print(type(simple_gen))\n",
    "print(type(simple_gen()))"
   ],
   "metadata": {
    "collapsed": false,
    "pycharm": {
     "name": "#%%\n"
    }
   }
  },
  {
   "cell_type": "code",
   "execution_count": null,
   "outputs": [],
   "source": [
    "g = simple_gen()\n",
    "print(g)\n",
    "print(g.__iter__())\n",
    "print(g.__next__())\n",
    "print(g.__next__())"
   ],
   "metadata": {
    "collapsed": false,
    "pycharm": {
     "name": "#%%\n"
    }
   }
  },
  {
   "cell_type": "code",
   "execution_count": null,
   "outputs": [],
   "source": [
    "def heavy_computation() -> Iterator[int]:\n",
    "    for i in range(10000000000000000000000000000000000000000):\n",
    "        yield i ** 2\n",
    "\n",
    "g = heavy_computation()\n",
    "for i in range(10):\n",
    "    print(next(g))\n"
   ],
   "metadata": {
    "collapsed": false,
    "pycharm": {
     "name": "#%%\n"
    }
   }
  },
  {
   "cell_type": "code",
   "execution_count": null,
   "outputs": [],
   "source": [
    "def gen_with_send() ->  Generator[None, int, None]:\n",
    "    while True:\n",
    "        item = yield\n",
    "        print(f\"{item=}\")\n",
    "\n",
    "g = gen_with_send()\n",
    "next(g)\n",
    "g.send(1)\n",
    "g.send(2)\n",
    "g.send(42)\n"
   ],
   "metadata": {
    "collapsed": false,
    "pycharm": {
     "name": "#%%\n"
    }
   }
  },
  {
   "cell_type": "code",
   "execution_count": null,
   "outputs": [],
   "source": [
    "def gen_with_send() -> Generator[None, int, None]:\n",
    "    while True:\n",
    "        item = yield\n",
    "        print(f\"{item=}\")\n",
    "\n",
    "g = gen_with_send()\n",
    "g.send(None)\n",
    "g.send(1)\n",
    "g.send(2)\n",
    "g.send(42)\n"
   ],
   "metadata": {
    "collapsed": false,
    "pycharm": {
     "name": "#%%\n"
    }
   }
  },
  {
   "cell_type": "code",
   "execution_count": 33,
   "outputs": [
    {
     "name": "stdout",
     "output_type": "stream",
     "text": [
      "item=1\n"
     ]
    },
    {
     "ename": "StopIteration",
     "evalue": "",
     "output_type": "error",
     "traceback": [
      "\u001B[0;31m---------------------------------------------------------------------------\u001B[0m",
      "\u001B[0;31mStopIteration\u001B[0m                             Traceback (most recent call last)",
      "\u001B[0;32m/var/folders/4v/p3ssq3k14cq3s30gh_8261qw0000gn/T/ipykernel_44435/1590337578.py\u001B[0m in \u001B[0;36m<module>\u001B[0;34m\u001B[0m\n\u001B[1;32m      5\u001B[0m \u001B[0mg\u001B[0m \u001B[0;34m=\u001B[0m \u001B[0mgen_with_send\u001B[0m\u001B[0;34m(\u001B[0m\u001B[0;34m)\u001B[0m\u001B[0;34m\u001B[0m\u001B[0;34m\u001B[0m\u001B[0m\n\u001B[1;32m      6\u001B[0m \u001B[0mg\u001B[0m\u001B[0;34m.\u001B[0m\u001B[0msend\u001B[0m\u001B[0;34m(\u001B[0m\u001B[0;32mNone\u001B[0m\u001B[0;34m)\u001B[0m\u001B[0;34m\u001B[0m\u001B[0;34m\u001B[0m\u001B[0m\n\u001B[0;32m----> 7\u001B[0;31m \u001B[0mg\u001B[0m\u001B[0;34m.\u001B[0m\u001B[0msend\u001B[0m\u001B[0;34m(\u001B[0m\u001B[0;36m1\u001B[0m\u001B[0;34m)\u001B[0m\u001B[0;34m\u001B[0m\u001B[0;34m\u001B[0m\u001B[0m\n\u001B[0m\u001B[1;32m      8\u001B[0m \u001B[0;34m\u001B[0m\u001B[0m\n",
      "\u001B[0;31mStopIteration\u001B[0m: "
     ]
    }
   ],
   "source": [
    "def gen_with_send() -> Generator[None, int, None]:\n",
    "    item = yield\n",
    "    print(f\"{item=}\")\n",
    "\n",
    "g = gen_with_send()\n",
    "g.send(None)\n",
    "g.send(1)"
   ],
   "metadata": {
    "collapsed": false,
    "pycharm": {
     "name": "#%%\n"
    }
   }
  },
  {
   "cell_type": "code",
   "execution_count": null,
   "outputs": [],
   "source": [
    "def gen_with_send_and_return() -> Generator[None, int, str]:\n",
    "    item = yield\n",
    "    print(f\"{item=}\")\n",
    "    return 'It will be in StopIteration'"
   ],
   "metadata": {
    "collapsed": false,
    "pycharm": {
     "name": "#%%\n"
    }
   }
  },
  {
   "cell_type": "code",
   "execution_count": 42,
   "outputs": [
    {
     "name": "stdout",
     "output_type": "stream",
     "text": [
      "item=0\n",
      "outer_item=42\n",
      "item=1\n",
      "outer_item=41\n"
     ]
    },
    {
     "data": {
      "text/plain": "2"
     },
     "execution_count": 42,
     "metadata": {},
     "output_type": "execute_result"
    }
   ],
   "source": [
    "def gen_with_send() -> Iterator[int]:\n",
    "    item = 0\n",
    "    while True:\n",
    "        outer_item = yield item\n",
    "        print(f\"{item=}\")\n",
    "        print(f\"{outer_item=}\")\n",
    "        item += 1\n",
    "\n",
    "g = gen_with_send()\n",
    "g.send(None)\n",
    "g.send(42)\n",
    "g.send(41)"
   ],
   "metadata": {
    "collapsed": false,
    "pycharm": {
     "name": "#%%\n"
    }
   }
  },
  {
   "cell_type": "code",
   "execution_count": 50,
   "outputs": [
    {
     "name": "stdout",
     "output_type": "stream",
     "text": [
      "0\n",
      "1\n",
      "2\n",
      "3\n",
      "4\n"
     ]
    }
   ],
   "source": [
    "def sub_gen():\n",
    "    for i in range(5):\n",
    "        yield i\n",
    "\n",
    "def main_gen():\n",
    "    gen = sub_gen()\n",
    "    for i in gen:\n",
    "        yield i\n",
    "\n",
    "gen = main_gen()\n",
    "for i in gen:\n",
    "    print(i)"
   ],
   "metadata": {
    "collapsed": false,
    "pycharm": {
     "name": "#%%\n"
    }
   }
  },
  {
   "cell_type": "code",
   "execution_count": 51,
   "outputs": [
    {
     "name": "stdout",
     "output_type": "stream",
     "text": [
      "0\n",
      "1\n",
      "2\n",
      "3\n",
      "4\n"
     ]
    }
   ],
   "source": [
    "def sub_gen():\n",
    "    for i in range(5):\n",
    "        yield i\n",
    "\n",
    "def main_gen():\n",
    "    gen = sub_gen()\n",
    "    yield from gen\n",
    "\n",
    "gen = main_gen()\n",
    "for i in gen:\n",
    "    print(i)\n"
   ],
   "metadata": {
    "collapsed": false,
    "pycharm": {
     "name": "#%%\n"
    }
   }
  },
  {
   "cell_type": "code",
   "execution_count": 52,
   "outputs": [
    {
     "name": "stdout",
     "output_type": "stream",
     "text": [
      "val='From main with love'\n"
     ]
    },
    {
     "ename": "StopIteration",
     "evalue": "",
     "output_type": "error",
     "traceback": [
      "\u001B[0;31m---------------------------------------------------------------------------\u001B[0m",
      "\u001B[0;31mStopIteration\u001B[0m                             Traceback (most recent call last)",
      "\u001B[0;32m/var/folders/4v/p3ssq3k14cq3s30gh_8261qw0000gn/T/ipykernel_44435/1912194935.py\u001B[0m in \u001B[0;36m<module>\u001B[0;34m\u001B[0m\n\u001B[1;32m     10\u001B[0m \u001B[0mgen\u001B[0m \u001B[0;34m=\u001B[0m \u001B[0mmain_gen\u001B[0m\u001B[0;34m(\u001B[0m\u001B[0;34m)\u001B[0m\u001B[0;34m\u001B[0m\u001B[0;34m\u001B[0m\u001B[0m\n\u001B[1;32m     11\u001B[0m \u001B[0mgen\u001B[0m\u001B[0;34m.\u001B[0m\u001B[0msend\u001B[0m\u001B[0;34m(\u001B[0m\u001B[0;32mNone\u001B[0m\u001B[0;34m)\u001B[0m\u001B[0;34m\u001B[0m\u001B[0;34m\u001B[0m\u001B[0m\n\u001B[0;32m---> 12\u001B[0;31m \u001B[0mgen\u001B[0m\u001B[0;34m.\u001B[0m\u001B[0msend\u001B[0m\u001B[0;34m(\u001B[0m\u001B[0;34m'From main with love'\u001B[0m\u001B[0;34m)\u001B[0m\u001B[0;34m\u001B[0m\u001B[0;34m\u001B[0m\u001B[0m\n\u001B[0m\u001B[1;32m     13\u001B[0m \u001B[0;34m\u001B[0m\u001B[0m\n",
      "\u001B[0;31mStopIteration\u001B[0m: "
     ]
    }
   ],
   "source": [
    "def sub_gen():\n",
    "    val = yield\n",
    "    print(f\"{val=}\")\n",
    "\n",
    "\n",
    "def main_gen():\n",
    "    gen = sub_gen()\n",
    "    yield from gen\n",
    "\n",
    "gen = main_gen()\n",
    "gen.send(None)\n",
    "gen.send('From main with love')"
   ],
   "metadata": {
    "collapsed": false,
    "pycharm": {
     "name": "#%%\n"
    }
   }
  }
 ],
 "metadata": {
  "kernelspec": {
   "display_name": "Python 3",
   "language": "python",
   "name": "python3"
  },
  "language_info": {
   "codemirror_mode": {
    "name": "ipython",
    "version": 2
   },
   "file_extension": ".py",
   "mimetype": "text/x-python",
   "name": "python",
   "nbconvert_exporter": "python",
   "pygments_lexer": "ipython2",
   "version": "2.7.6"
  }
 },
 "nbformat": 4,
 "nbformat_minor": 0
}